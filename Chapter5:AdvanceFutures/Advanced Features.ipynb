{
 "cells": [
  {
   "cell_type": "markdown",
   "metadata": {},
   "source": [
    "# Call Method of Parent Class"
   ]
  },
  {
   "cell_type": "code",
   "execution_count": 35,
   "metadata": {},
   "outputs": [],
   "source": [
    "class MyDict(dict):\n",
    "    def __setitem__(self, key, val):\n",
    "        print('Setting a key and value')\n",
    "        # call setitem method from the parent class\n",
    "        dict.__setitem__(self, key, val)\n"
   ]
  },
  {
   "cell_type": "code",
   "execution_count": 30,
   "metadata": {},
   "outputs": [],
   "source": [
    "diction = MyDict()"
   ]
  },
  {
   "cell_type": "code",
   "execution_count": 31,
   "metadata": {},
   "outputs": [
    {
     "name": "stdout",
     "output_type": "stream",
     "text": [
      "{}\n"
     ]
    }
   ],
   "source": [
    "print(diction)"
   ]
  },
  {
   "cell_type": "code",
   "execution_count": 32,
   "metadata": {},
   "outputs": [
    {
     "name": "stdout",
     "output_type": "stream",
     "text": [
      "Setting a key and value\n"
     ]
    }
   ],
   "source": [
    "diction['first_item'] = '09/11/2020'"
   ]
  },
  {
   "cell_type": "code",
   "execution_count": 33,
   "metadata": {},
   "outputs": [
    {
     "name": "stdout",
     "output_type": "stream",
     "text": [
      "Setting a key and value\n"
     ]
    }
   ],
   "source": [
    "diction['second_item'] = '09/20/2020'"
   ]
  },
  {
   "cell_type": "code",
   "execution_count": 34,
   "metadata": {},
   "outputs": [
    {
     "data": {
      "text/plain": [
       "{'first_item': '09/11/2020', 'second_item': '09/20/2020'}"
      ]
     },
     "execution_count": 34,
     "metadata": {},
     "output_type": "execute_result"
    }
   ],
   "source": [
    "diction"
   ]
  },
  {
   "cell_type": "markdown",
   "metadata": {},
   "source": [
    "# Subclassing Built-in Classes\n",
    "## Shift Index of a List"
   ]
  },
  {
   "cell_type": "code",
   "execution_count": 36,
   "metadata": {},
   "outputs": [],
   "source": [
    "class MyList(list): # inherit from list class\n",
    "    def __getitem__(self, index):\n",
    "        if index == 0: raise IndexError \n",
    "        if index >0: index = index - 1\n",
    "        # this method is called when we access a value with subscript\n",
    "        # get me a value at index \n",
    "        return list.__getitem__(self, index) \n",
    "        \n",
    "    def __setitem__(self, index, value):\n",
    "        if index == 0: raise IndexError\n",
    "        if index > 0: index = index - 1\n",
    "        list.__setitem__(self, index, value)\n",
    "        \n"
   ]
  },
  {
   "cell_type": "code",
   "execution_count": 45,
   "metadata": {},
   "outputs": [],
   "source": [
    "# __init__() will be inherited from builtin List class\n",
    "months = MyList(['september', 'october', 'november', 'december'])\n"
   ]
  },
  {
   "cell_type": "code",
   "execution_count": 46,
   "metadata": {},
   "outputs": [
    {
     "name": "stdout",
     "output_type": "stream",
     "text": [
      "['september', 'october', 'november', 'december']\n"
     ]
    }
   ],
   "source": [
    "# __repr__() will be inherited from builtin List class\n",
    "print(months)"
   ]
  },
  {
   "cell_type": "code",
   "execution_count": 47,
   "metadata": {},
   "outputs": [
    {
     "ename": "IndexError",
     "evalue": "",
     "output_type": "error",
     "traceback": [
      "\u001b[0;31m---------------------------------------------------------------------------\u001b[0m",
      "\u001b[0;31mIndexError\u001b[0m                                Traceback (most recent call last)",
      "\u001b[0;32m<ipython-input-47-b2819728e368>\u001b[0m in \u001b[0;36m<module>\u001b[0;34m\u001b[0m\n\u001b[1;32m      1\u001b[0m \u001b[0;31m# MyList.__getitem__ adjusts the List method as we defined\u001b[0m\u001b[0;34m\u001b[0m\u001b[0;34m\u001b[0m\u001b[0;34m\u001b[0m\u001b[0m\n\u001b[1;32m      2\u001b[0m \u001b[0;31m# so there is no value at index 0\u001b[0m\u001b[0;34m\u001b[0m\u001b[0;34m\u001b[0m\u001b[0;34m\u001b[0m\u001b[0m\n\u001b[0;32m----> 3\u001b[0;31m \u001b[0mmonths\u001b[0m\u001b[0;34m[\u001b[0m\u001b[0;36m0\u001b[0m\u001b[0;34m]\u001b[0m\u001b[0;34m\u001b[0m\u001b[0;34m\u001b[0m\u001b[0m\n\u001b[0m",
      "\u001b[0;32m<ipython-input-36-9888373dcc78>\u001b[0m in \u001b[0;36m__getitem__\u001b[0;34m(self, index)\u001b[0m\n\u001b[1;32m      1\u001b[0m \u001b[0;32mclass\u001b[0m \u001b[0mMyList\u001b[0m\u001b[0;34m(\u001b[0m\u001b[0mlist\u001b[0m\u001b[0;34m)\u001b[0m\u001b[0;34m:\u001b[0m \u001b[0;31m# inherit from list class\u001b[0m\u001b[0;34m\u001b[0m\u001b[0;34m\u001b[0m\u001b[0m\n\u001b[1;32m      2\u001b[0m     \u001b[0;32mdef\u001b[0m \u001b[0m__getitem__\u001b[0m\u001b[0;34m(\u001b[0m\u001b[0mself\u001b[0m\u001b[0;34m,\u001b[0m \u001b[0mindex\u001b[0m\u001b[0;34m)\u001b[0m\u001b[0;34m:\u001b[0m\u001b[0;34m\u001b[0m\u001b[0;34m\u001b[0m\u001b[0m\n\u001b[0;32m----> 3\u001b[0;31m         \u001b[0;32mif\u001b[0m \u001b[0mindex\u001b[0m \u001b[0;34m==\u001b[0m \u001b[0;36m0\u001b[0m\u001b[0;34m:\u001b[0m \u001b[0;32mraise\u001b[0m \u001b[0mIndexError\u001b[0m\u001b[0;34m\u001b[0m\u001b[0;34m\u001b[0m\u001b[0m\n\u001b[0m\u001b[1;32m      4\u001b[0m         \u001b[0;32mif\u001b[0m \u001b[0mindex\u001b[0m \u001b[0;34m>\u001b[0m\u001b[0;36m0\u001b[0m\u001b[0;34m:\u001b[0m \u001b[0mindex\u001b[0m \u001b[0;34m=\u001b[0m \u001b[0mindex\u001b[0m \u001b[0;34m-\u001b[0m \u001b[0;36m1\u001b[0m\u001b[0;34m\u001b[0m\u001b[0;34m\u001b[0m\u001b[0m\n\u001b[1;32m      5\u001b[0m         \u001b[0;31m# this method is called when we access a value with subscript\u001b[0m\u001b[0;34m\u001b[0m\u001b[0;34m\u001b[0m\u001b[0;34m\u001b[0m\u001b[0m\n",
      "\u001b[0;31mIndexError\u001b[0m: "
     ]
    }
   ],
   "source": [
    "# MyList.__getitem__ adjusts the List method as we defined\n",
    "# so there is no value at index 0\n",
    "months[0] "
   ]
  },
  {
   "cell_type": "code",
   "execution_count": 48,
   "metadata": {},
   "outputs": [
    {
     "data": {
      "text/plain": [
       "'september'"
      ]
     },
     "execution_count": 48,
     "metadata": {},
     "output_type": "execute_result"
    }
   ],
   "source": [
    "# MyList.__getitem()___ is customized as we defined\n",
    "months[1]"
   ]
  },
  {
   "cell_type": "code",
   "execution_count": 49,
   "metadata": {},
   "outputs": [],
   "source": [
    "# append() will be inherited from builtin List Class\n",
    "months.append('2020 is done')"
   ]
  },
  {
   "cell_type": "code",
   "execution_count": 50,
   "metadata": {},
   "outputs": [
    {
     "data": {
      "text/plain": [
       "['september', 'october', 'november', 'december', '2020 is done']"
      ]
     },
     "execution_count": 50,
     "metadata": {},
     "output_type": "execute_result"
    }
   ],
   "source": [
    "months"
   ]
  },
  {
   "cell_type": "code",
   "execution_count": 51,
   "metadata": {},
   "outputs": [
    {
     "data": {
      "text/plain": [
       "'2020 is done'"
      ]
     },
     "execution_count": 51,
     "metadata": {},
     "output_type": "execute_result"
    }
   ],
   "source": [
    "months[5]"
   ]
  },
  {
   "cell_type": "markdown",
   "metadata": {},
   "source": [
    "# Attribute Encapsulation"
   ]
  },
  {
   "cell_type": "code",
   "execution_count": 53,
   "metadata": {},
   "outputs": [],
   "source": [
    "class GetSet(object):\n",
    "    def __init__(self, value):\n",
    "        self.attrval = value # attrval is the attribute\n",
    "    @property\n",
    "    def var(self):\n",
    "        print('Getting the \"var\" attribute')\n",
    "        return self.attrval\n",
    "\n",
    "    @var.setter\n",
    "    def var(self, value):\n",
    "        print('Setting the \"var\" attribute')\n",
    "        self.attrval = value\n",
    "        \n",
    "    @var.deleter\n",
    "    def var(self):\n",
    "        print('Deleting the \"var\" attribute')\n",
    "        self.attrval = None"
   ]
  },
  {
   "cell_type": "code",
   "execution_count": 54,
   "metadata": {},
   "outputs": [],
   "source": [
    "attribute = GetSet(119)"
   ]
  },
  {
   "cell_type": "code",
   "execution_count": 55,
   "metadata": {},
   "outputs": [
    {
     "data": {
      "text/plain": [
       "<__main__.GetSet at 0x110ec96a0>"
      ]
     },
     "execution_count": 55,
     "metadata": {},
     "output_type": "execute_result"
    }
   ],
   "source": [
    "attribute"
   ]
  },
  {
   "cell_type": "code",
   "execution_count": 56,
   "metadata": {},
   "outputs": [
    {
     "name": "stdout",
     "output_type": "stream",
     "text": [
      "Getting the \"var\" attribute\n",
      "119\n"
     ]
    }
   ],
   "source": [
    "print(attribute.var)"
   ]
  },
  {
   "cell_type": "code",
   "execution_count": 59,
   "metadata": {},
   "outputs": [
    {
     "name": "stdout",
     "output_type": "stream",
     "text": [
      "Setting the \"var\" attribute\n"
     ]
    }
   ],
   "source": [
    "attribute.var=124"
   ]
  },
  {
   "cell_type": "code",
   "execution_count": 60,
   "metadata": {},
   "outputs": [
    {
     "name": "stdout",
     "output_type": "stream",
     "text": [
      "Getting the \"var\" attribute\n",
      "124\n"
     ]
    }
   ],
   "source": [
    "print(attribute.var)"
   ]
  },
  {
   "cell_type": "code",
   "execution_count": 62,
   "metadata": {},
   "outputs": [
    {
     "name": "stdout",
     "output_type": "stream",
     "text": [
      "Deleting the \"var\" attribute\n"
     ]
    }
   ],
   "source": [
    "del attribute.var"
   ]
  },
  {
   "cell_type": "code",
   "execution_count": 63,
   "metadata": {},
   "outputs": [
    {
     "name": "stdout",
     "output_type": "stream",
     "text": [
      "Getting the \"var\" attribute\n",
      "None\n"
     ]
    }
   ],
   "source": [
    "print(attribute.var)"
   ]
  },
  {
   "cell_type": "markdown",
   "metadata": {},
   "source": [
    "# Some PEP 8\n",
    "\n",
    "- Module names: `all_lower_case`\n",
    "- Class names and exception names: `CamelCase`\n",
    "- Globals and Locals: `all_lower_case`\n",
    "- Functions ans Methods: `all_lower_case`\n",
    "- Constants: `ALL_CAPS`\n",
    "- Public attributes or variables: `regular_lower_case`\n",
    "- Private attributes or variables: `_single_leading_underscore`\n",
    "- Private attributes that souldnt be subclassed: `__double_leading_underscore`\n",
    "- Magic attributes (use them dont create): `__double_underscores_bothside__`\n"
   ]
  },
  {
   "cell_type": "markdown",
   "metadata": {},
   "source": [
    "# With Context Manager"
   ]
  },
  {
   "cell_type": "markdown",
   "metadata": {},
   "source": [
    "- Some objects need to clean up when done\n",
    "    - File object needs to be closed with a close() function\n",
    "    - A ntework connection may need to close\n",
    "    - A data-intensive operation may need to del the data\n",
    "- We can handle exceptions that occur in the with block\n"
   ]
  },
  {
   "cell_type": "code",
   "execution_count": 96,
   "metadata": {},
   "outputs": [
    {
     "ename": "FileNotFoundError",
     "evalue": "[Errno 2] No such file or directory: 'filename.txt'",
     "output_type": "error",
     "traceback": [
      "\u001b[0;31m---------------------------------------------------------------------------\u001b[0m",
      "\u001b[0;31mFileNotFoundError\u001b[0m                         Traceback (most recent call last)",
      "\u001b[0;32m<ipython-input-96-5ae907fc87fc>\u001b[0m in \u001b[0;36m<module>\u001b[0;34m\u001b[0m\n\u001b[1;32m      1\u001b[0m \u001b[0;31m# opening the file safely\u001b[0m\u001b[0;34m\u001b[0m\u001b[0;34m\u001b[0m\u001b[0;34m\u001b[0m\u001b[0m\n\u001b[1;32m      2\u001b[0m \u001b[0;31m# this helps closing the file\u001b[0m\u001b[0;34m\u001b[0m\u001b[0;34m\u001b[0m\u001b[0;34m\u001b[0m\u001b[0m\n\u001b[0;32m----> 3\u001b[0;31m \u001b[0;32mwith\u001b[0m \u001b[0mopen\u001b[0m\u001b[0;34m(\u001b[0m\u001b[0;34m'filename.txt'\u001b[0m\u001b[0;34m)\u001b[0m \u001b[0;32mas\u001b[0m \u001b[0mfh\u001b[0m\u001b[0;34m:\u001b[0m\u001b[0;34m\u001b[0m\u001b[0;34m\u001b[0m\u001b[0m\n\u001b[0m\u001b[1;32m      4\u001b[0m     \u001b[0;32mfor\u001b[0m \u001b[0mline\u001b[0m \u001b[0;32min\u001b[0m \u001b[0mfh\u001b[0m\u001b[0;34m:\u001b[0m\u001b[0;34m\u001b[0m\u001b[0;34m\u001b[0m\u001b[0m\n\u001b[1;32m      5\u001b[0m         \u001b[0mdo_sth\u001b[0m\u001b[0;34m(\u001b[0m\u001b[0;34m)\u001b[0m\u001b[0;34m\u001b[0m\u001b[0;34m\u001b[0m\u001b[0m\n",
      "\u001b[0;31mFileNotFoundError\u001b[0m: [Errno 2] No such file or directory: 'filename.txt'"
     ]
    }
   ],
   "source": [
    "# opening the file safely\n",
    "# this helps closing the file \n",
    "with open('filename.txt') as fh:\n",
    "    for line in fh:\n",
    "        do_sth()\n",
    "\n"
   ]
  },
  {
   "cell_type": "code",
   "execution_count": 82,
   "metadata": {},
   "outputs": [],
   "source": [
    "class GreetingsClass(object):\n",
    "    def __enter__(self): # an instance method gets called at the beginning with WITH block\n",
    "        print('We have entered \"with\"')\n",
    "        return self\n",
    "    def __exit__(self, type, value, traceback): # gets called at the end of WITH block\n",
    "        # clean up functionality\n",
    "        print('We are leaving \"with\"')\n",
    "        \n",
    "    def sayhi(self):\n",
    "        print('Hi instance {}'.format(id(self)))"
   ]
  },
  {
   "cell_type": "code",
   "execution_count": 83,
   "metadata": {},
   "outputs": [
    {
     "name": "stdout",
     "output_type": "stream",
     "text": [
      "We have entered \"with\"\n",
      "Hi instance 4573313392\n",
      "We are leaving \"with\"\n",
      "---------- \n",
      " This line comes after the \"with\" block\n"
     ]
    }
   ],
   "source": [
    "with GreetingsClass() as first_instance:\n",
    "    first_instance.sayhi()\n",
    "\n",
    "\n",
    "print(10*'-', '\\n','This line comes after the \"with\" block')"
   ]
  },
  {
   "cell_type": "markdown",
   "metadata": {},
   "source": [
    "- This is useful if you use high memory data and wanted to release the memory when the work is done on the data.\n",
    "- Or you want to end a database connection after the data is pulled "
   ]
  },
  {
   "cell_type": "code",
   "execution_count": 88,
   "metadata": {},
   "outputs": [],
   "source": [
    "class GreetingsClass(object):\n",
    "    def __enter__(self): # an instance method gets called at the beginning with WITH block\n",
    "        print('We have entered \"with\"')\n",
    "        return self\n",
    "    \n",
    "    def __exit__(self, type, value, traceback): # gets called at the end of WITH block\n",
    "        # clean up functionality\n",
    "        print('error type: {}'.format(type))\n",
    "        print('error value: {}'.format(value))\n",
    "        print('error traceback: {}'.format(traceback))\n",
    "        print('We are leaving \"with\" block')\n",
    "        \n",
    "    def sayhi(self):\n",
    "        print('Hi instance {}'.format(id(self)))"
   ]
  },
  {
   "cell_type": "code",
   "execution_count": 95,
   "metadata": {},
   "outputs": [
    {
     "name": "stdout",
     "output_type": "stream",
     "text": [
      "We have entered \"with\"\n",
      "Hi instance 4570614224\n",
      "error type: <class 'ZeroDivisionError'>\n",
      "error value: division by zero\n",
      "error traceback: <traceback object at 0x1107fa100>\n",
      "We are leaving \"with\" block\n"
     ]
    },
    {
     "ename": "ZeroDivisionError",
     "evalue": "division by zero",
     "output_type": "error",
     "traceback": [
      "\u001b[0;31m---------------------------------------------------------------------------\u001b[0m",
      "\u001b[0;31mZeroDivisionError\u001b[0m                         Traceback (most recent call last)",
      "\u001b[0;32m<ipython-input-95-3bcc150aa954>\u001b[0m in \u001b[0;36m<module>\u001b[0;34m\u001b[0m\n\u001b[1;32m      1\u001b[0m \u001b[0;32mwith\u001b[0m \u001b[0mGreetingsClass\u001b[0m\u001b[0;34m(\u001b[0m\u001b[0;34m)\u001b[0m \u001b[0;32mas\u001b[0m \u001b[0mGC\u001b[0m\u001b[0;34m:\u001b[0m\u001b[0;34m\u001b[0m\u001b[0;34m\u001b[0m\u001b[0m\n\u001b[1;32m      2\u001b[0m     \u001b[0mGC\u001b[0m\u001b[0;34m.\u001b[0m\u001b[0msayhi\u001b[0m\u001b[0;34m(\u001b[0m\u001b[0;34m)\u001b[0m\u001b[0;34m\u001b[0m\u001b[0;34m\u001b[0m\u001b[0m\n\u001b[0;32m----> 3\u001b[0;31m     \u001b[0;36m5\u001b[0m\u001b[0;34m/\u001b[0m\u001b[0;36m0\u001b[0m\u001b[0;34m\u001b[0m\u001b[0;34m\u001b[0m\u001b[0m\n\u001b[0m\u001b[1;32m      4\u001b[0m \u001b[0;34m\u001b[0m\u001b[0m\n\u001b[1;32m      5\u001b[0m \u001b[0mprint\u001b[0m\u001b[0;34m(\u001b[0m\u001b[0;36m10\u001b[0m\u001b[0;34m*\u001b[0m\u001b[0;34m'-'\u001b[0m\u001b[0;34m,\u001b[0m \u001b[0;34m'\\n'\u001b[0m\u001b[0;34m,\u001b[0m\u001b[0;34m'This line comes after the \"with\" block'\u001b[0m\u001b[0;34m)\u001b[0m\u001b[0;34m\u001b[0m\u001b[0;34m\u001b[0m\u001b[0m\n",
      "\u001b[0;31mZeroDivisionError\u001b[0m: division by zero"
     ]
    }
   ],
   "source": [
    "with GreetingsClass() as GC:\n",
    "    GC.sayhi()\n",
    "    5/0\n",
    "\n",
    "print(10*'-', '\\n','This line comes after the \"with\" block')"
   ]
  },
  {
   "cell_type": "markdown",
   "metadata": {},
   "source": [
    "# Assignment 3 "
   ]
  },
  {
   "cell_type": "code",
   "execution_count": 84,
   "metadata": {},
   "outputs": [],
   "source": [
    "import os\n",
    "\n",
    "class ConfigDict(dict):\n",
    "    \n",
    "    # fisrt we create a file in the constructor\n",
    "    def __init__(self, filename):\n",
    "        \n",
    "        self._filename = filename\n",
    "        # _ is to indicate this is a private var\n",
    "        if os.path.isfile(self._filename): # is it a file on the path\n",
    "            with open(self._filename) as fh: # if exist open \n",
    "                print('creating the txt file')\n",
    "                for line in fh:\n",
    "                    line = line.rstrip() # line in file new line added\n",
    "                    key, value = line.split('=', 1) # max split amount, 1 here on the equal sign\n",
    "                    dict.__setitem__(self,key, value) # setting value to key with superclass\n",
    "\n",
    "#     def __setitem__(self, key, value):\n",
    "        \n",
    "#         dict.__setitem__(self, key, value)\n",
    "#         with open(self._filename, 'a') as fh: # here we open the file we created \n",
    "#             for key,  val in self.items():\n",
    "#                 print('writing the data')\n",
    "#                 fh.write('{}={}\\n'.format(key, value))\n",
    "                    \n",
    "\n",
    "    def __setitem__(self, key, value):\n",
    "        dict.__setitem__(self, key, value)\n",
    "        with open(self._filename, 'a') as fh: # here we open the file we created \n",
    "            print('writing the data')\n",
    "            fh.write('{}={}\\n'.format(key, value))\n"
   ]
  },
  {
   "cell_type": "code",
   "execution_count": 85,
   "metadata": {},
   "outputs": [],
   "source": [
    "newdict = ConfigDict('config_file.txt')"
   ]
  },
  {
   "cell_type": "code",
   "execution_count": 86,
   "metadata": {},
   "outputs": [
    {
     "data": {
      "text/plain": [
       "{}"
      ]
     },
     "execution_count": 86,
     "metadata": {},
     "output_type": "execute_result"
    }
   ],
   "source": [
    "newdict"
   ]
  },
  {
   "cell_type": "code",
   "execution_count": 88,
   "metadata": {},
   "outputs": [
    {
     "name": "stdout",
     "output_type": "stream",
     "text": [
      "writing the data\n"
     ]
    }
   ],
   "source": [
    "newdict['first_item'] = 'this is the first value' "
   ]
  },
  {
   "cell_type": "code",
   "execution_count": 89,
   "metadata": {},
   "outputs": [
    {
     "name": "stdout",
     "output_type": "stream",
     "text": [
      "writing the data\n"
     ]
    }
   ],
   "source": [
    "newdict['second_item'] = 'this should be on the third row'"
   ]
  },
  {
   "cell_type": "code",
   "execution_count": 65,
   "metadata": {},
   "outputs": [
    {
     "data": {
      "text/plain": [
       "['/Users/ozkans/.local/share/virtualenvs/PythonUdemy-UenaIVu3/lib/python3.8/site-packages/ipykernel_launcher.py',\n",
       " '-f',\n",
       " '/Users/ozkans/Library/Jupyter/runtime/kernel-4ec4d129-3787-415b-bbde-a7de3b5aab75.json']"
      ]
     },
     "execution_count": 65,
     "metadata": {},
     "output_type": "execute_result"
    }
   ],
   "source": [
    "sys.argv"
   ]
  },
  {
   "cell_type": "code",
   "execution_count": null,
   "metadata": {},
   "outputs": [],
   "source": []
  }
 ],
 "metadata": {
  "kernelspec": {
   "display_name": "Python 3",
   "language": "python",
   "name": "python3"
  },
  "language_info": {
   "codemirror_mode": {
    "name": "ipython",
    "version": 3
   },
   "file_extension": ".py",
   "mimetype": "text/x-python",
   "name": "python",
   "nbconvert_exporter": "python",
   "pygments_lexer": "ipython3",
   "version": "3.8.4"
  }
 },
 "nbformat": 4,
 "nbformat_minor": 4
}
