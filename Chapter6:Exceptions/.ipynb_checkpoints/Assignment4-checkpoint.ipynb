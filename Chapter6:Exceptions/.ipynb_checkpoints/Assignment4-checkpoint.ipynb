{
 "cells": [
  {
   "cell_type": "markdown",
   "metadata": {},
   "source": [
    "# Make a Library to Keep Logs in a Text File"
   ]
  },
  {
   "cell_type": "code",
   "execution_count": 1,
   "metadata": {},
   "outputs": [],
   "source": [
    "import os\n",
    "\n",
    "class ConfigDict(dict):\n",
    "    # fisrt we create a file in the constructor\n",
    "    def __init__(self, filename):\n",
    "        self._filename = filename\n",
    "        # _ is to indicate this is a private var\n",
    "        if os.path.isfile(self._filename): # is it a file on the path\n",
    "            with open(self._filename, 'r') as fh: # if exist open \n",
    "                print('creating the txt file')\n",
    "                for line in fh:\n",
    "                    line = line.rstrip() # line in file new line added\n",
    "                    key, value = line.split('=', 1) # max split amount, 1 here on the equal sign\n",
    "                    dict.__setitem__(self,key, value) # setting value to key with superclass\n",
    "\n",
    "    def __setitem__(self, key, value):\n",
    "        dict.__setitem__(self, key, value)\n",
    "        with open(self._filename, 'w') as fh: # here we open the file we created \n",
    "            for key,  val in self.items():\n",
    "                print('writing the data')\n",
    "                fh.write('{}={}\\n'.format(key, value))"
   ]
  },
  {
   "cell_type": "markdown",
   "metadata": {},
   "source": [
    "# Handle Errors Due Potential to Misuse of The Library"
   ]
  },
  {
   "cell_type": "code",
   "execution_count": 4,
   "metadata": {},
   "outputs": [],
   "source": [
    "# If file name does not exist?\n",
    "# If a path is not valid\n",
    "# If a key is not valid\n",
    "# \n",
    "\n",
    "import os\n",
    "class ConfigKeyError(Exception):\n",
    "    \n",
    "    def __init__(self, this, key):\n",
    "        self.key = key\n",
    "        self.keys = this.keys()\n",
    "        \n",
    "    def __str__(self):\n",
    "        return 'key {} not found. Availabe keys: ({})'.format(self.key, ', '.join(self.keys))\n",
    "    \n",
    "\n",
    "class ConfigDict(dict):\n",
    "    # fisrt we create a file in the constructor\n",
    "    def __init__(self, filename):\n",
    "        self._filename = filename\n",
    "        # _ is to indicate this is a private var\n",
    "        if not os.path.isfile(self._filename): # is it a file on the path\n",
    "            try:\n",
    "                open(sef._filename, 'w').close()\n",
    "            except IOError:\n",
    "                raise IOError('arg to ConfigDict must be a valid pathname')\n",
    "        with open(self._filename, 'r') as fh: # if exist open \n",
    "            print('creating the txt file')\n",
    "            for line in fh:\n",
    "                line = line.rstrip() # line in file new line added\n",
    "                key, value = line.split('=', 1) # max split amount, 1 here on the equal sign\n",
    "                dict.__setitem__(self,key, value) # setting value to key with superclass\n",
    "\n",
    "    def __getitem__(self, key):\n",
    "        if not key in self:\n",
    "            raise ConfigKeyError(self, key)\n",
    "        return dict.__getitem__(self, key, value)\n",
    "    \n",
    "    def __setitem__(self, key, value):\n",
    "        dict.__setitem__(self, key, value)\n",
    "        with open(self._filename, 'w') as fh: # here we open the file we created \n",
    "            for key,  val in self.items():\n",
    "                print('writing the data')\n",
    "                fh.write('{}={}\\n'.format(key, value))\n"
   ]
  },
  {
   "cell_type": "code",
   "execution_count": null,
   "metadata": {
    "collapsed": true
   },
   "outputs": [],
   "source": [
    " "
   ]
  }
 ],
 "metadata": {
  "kernelspec": {
   "display_name": "Python 3",
   "language": "python",
   "name": "python3"
  },
  "language_info": {
   "codemirror_mode": {
    "name": "ipython",
    "version": 3
   },
   "file_extension": ".py",
   "mimetype": "text/x-python",
   "name": "python",
   "nbconvert_exporter": "python",
   "pygments_lexer": "ipython3",
   "version": "3.8.4"
  }
 },
 "nbformat": 4,
 "nbformat_minor": 4
}
