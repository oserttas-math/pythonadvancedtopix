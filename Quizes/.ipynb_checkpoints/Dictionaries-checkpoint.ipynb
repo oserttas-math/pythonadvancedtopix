{
 "cells": [
  {
   "cell_type": "code",
   "execution_count": 36,
   "metadata": {},
   "outputs": [],
   "source": [
    "def count_letters(txt):\n",
    "    total = {}\n",
    "    for letter in txt:\n",
    "        if letter not in total:\n",
    "            total[letter] = 0\n",
    "        else:\n",
    "            total[letter] += 1\n",
    "    return total"
   ]
  },
  {
   "cell_type": "code",
   "execution_count": 37,
   "metadata": {},
   "outputs": [
    {
     "data": {
      "text/plain": [
       "{'a': 2,\n",
       " 'l': 0,\n",
       " 'i': 0,\n",
       " ' ': 2,\n",
       " 'b': 1,\n",
       " 'n': 0,\n",
       " 'o': 2,\n",
       " 't': 0,\n",
       " 'g': 0,\n",
       " 'd': 0}"
      ]
     },
     "execution_count": 37,
     "metadata": {},
     "output_type": "execute_result"
    }
   ],
   "source": [
    "count_letters('ali baba not good')"
   ]
  },
  {
   "cell_type": "code",
   "execution_count": 34,
   "metadata": {},
   "outputs": [],
   "source": [
    "# removing else statement changes the result!!!!!!\n",
    "def count_letters_again(txt):\n",
    "    total = {}\n",
    "    for letter in txt:\n",
    "        if letter not in total:\n",
    "            total[letter] = 0\n",
    "        # we do not want to go to beginning of the loop\n",
    "        total[letter] += 1\n",
    "    return total"
   ]
  },
  {
   "cell_type": "code",
   "execution_count": 35,
   "metadata": {},
   "outputs": [
    {
     "data": {
      "text/plain": [
       "{'a': 3,\n",
       " 'l': 1,\n",
       " 'i': 1,\n",
       " ' ': 3,\n",
       " 'b': 2,\n",
       " 'n': 1,\n",
       " 'o': 3,\n",
       " 't': 1,\n",
       " 'g': 1,\n",
       " 'd': 1}"
      ]
     },
     "execution_count": 35,
     "metadata": {},
     "output_type": "execute_result"
    }
   ],
   "source": [
    "count_letters_again('ali baba not good')"
   ]
  },
  {
   "cell_type": "markdown",
   "metadata": {},
   "source": [
    "Dictionary Methods Cheat Sheet\n",
    "Definition\n",
    "\n",
    "x = {key1:value1, key2:value2}\n",
    "\n",
    "Operations\n",
    "\n",
    "- len(dictionary) - Returns the number of items in the dictionary\n",
    "- for key in dictionary - Iterates over each key in the dictionary\n",
    "- for key, value in dictionary.items() - Iterates over each key,value pair in the dictionary\n",
    "- if key in dictionary - Checks whether the key is in the dictionary\n",
    "- dictionary[key] - Accesses the item with key key of the dictionary\n",
    "- dictionary[key] = value - Sets the value associated with key\n",
    "- del dictionary[key] - Removes the item with key key from the dictionary\n",
    "\n",
    "\n",
    "Methods\n",
    "\n",
    "- dict.get(key, default) - Returns the element corresponding to key, or default if it's not present\n",
    "- dict.keys() - Returns a sequence containing the keys in the dictionary\n",
    "- dict.values() - Returns a sequence containing the values in the dictionary\n",
    "- dict.update(other_dictionary) - Updates the dictionary with the items coming from the - - - other dictionary. Existing entries will be replaced; new entries will be added.\n",
    "- dict.clear() - Removes all the items of the dictionary\n"
   ]
  },
  {
   "cell_type": "markdown",
   "metadata": {},
   "source": [
    "# Questions"
   ]
  },
  {
   "cell_type": "markdown",
   "metadata": {},
   "source": [
    "The email_list function receives a dictionary, which contains domain names as keys, and a list of users as values. Fill in the blanks to generate a list that contains complete email addresses (e.g. diana.prince@gmail.com)."
   ]
  },
  {
   "cell_type": "code",
   "execution_count": 42,
   "metadata": {},
   "outputs": [
    {
     "name": "stdout",
     "output_type": "stream",
     "text": [
      "['clark.kent@gmail.com', 'diana.prince@gmail.com', 'peter.parker@gmail.com', 'barbara.gordon@yahoo.com', 'jean.grey@yahoo.com', 'bruce.wayne@hotmail.com']\n"
     ]
    }
   ],
   "source": [
    "def email_list(domains):\n",
    "    emails = []\n",
    "    for domain, users in domains.items():\n",
    "        for user in users:\n",
    "            emails.append(user+ '@' + domain)\n",
    "    return(emails)\n",
    "\n",
    "print(email_list({\"gmail.com\": [\"clark.kent\", \"diana.prince\", \"peter.parker\"], \"yahoo.com\": [\"barbara.gordon\", \"jean.grey\"], \"hotmail.com\": [\"bruce.wayne\"]}))"
   ]
  },
  {
   "cell_type": "markdown",
   "metadata": {},
   "source": [
    "Question 2\n",
    "The groups_per_user function receives a dictionary, which contains group names with the list of users. Users can belong to multiple groups. Fill in the blanks to return a dictionary with the users as keys and a list of their groups as values."
   ]
  },
  {
   "cell_type": "code",
   "execution_count": 46,
   "metadata": {},
   "outputs": [
    {
     "name": "stdout",
     "output_type": "stream",
     "text": [
      "{'admin': ['local', 'public', 'administrator'], 'userA': ['local'], 'userB': ['public']}\n"
     ]
    }
   ],
   "source": [
    "def groups_per_user(group_dictionary):\n",
    "    user_groups = {}\n",
    "    \n",
    "    # Go through group_dictionary\n",
    "    for key, values in group_dictionary.items():\n",
    "        # Now go through the users in the group\n",
    "        \n",
    "        for val in values:\n",
    "            # Now add the group to the the list of\n",
    "            if val not in user_groups:\n",
    "                user_groups[val] = []\n",
    "            user_groups[val].append(key)\n",
    "    # groups for this user, creating the entry\n",
    "    # in the dictionary if necessary\n",
    "\n",
    "    return(user_groups)\n",
    "\n",
    "print(groups_per_user({\"local\": [\"admin\", \"userA\"],\n",
    "\t\t\"public\":  [\"admin\", \"userB\"],\n",
    "\t\t\"administrator\": [\"admin\"] }))"
   ]
  },
  {
   "cell_type": "code",
   "execution_count": null,
   "metadata": {},
   "outputs": [],
   "source": []
  },
  {
   "cell_type": "code",
   "execution_count": null,
   "metadata": {},
   "outputs": [],
   "source": []
  },
  {
   "cell_type": "code",
   "execution_count": 47,
   "metadata": {},
   "outputs": [],
   "source": [
    "wardrobe = {'shirt': ['red', 'blue', 'white'], 'jeans': ['blue', 'black']}\n",
    "new_items = {'jeans': ['white'], 'scarf': ['yellow'], 'socks': ['black', 'brown']}\n",
    "wardrobe.update(new_items)"
   ]
  },
  {
   "cell_type": "code",
   "execution_count": 48,
   "metadata": {},
   "outputs": [
    {
     "data": {
      "text/plain": [
       "{'shirt': ['red', 'blue', 'white'],\n",
       " 'jeans': ['white'],\n",
       " 'scarf': ['yellow'],\n",
       " 'socks': ['black', 'brown']}"
      ]
     },
     "execution_count": 48,
     "metadata": {},
     "output_type": "execute_result"
    }
   ],
   "source": [
    "wardrobe"
   ]
  },
  {
   "cell_type": "markdown",
   "metadata": {},
   "source": [
    "Question 5\n",
    "The add_prices function returns the total price of all of the groceries in the dictionary. Fill in the blanks to complete this function."
   ]
  },
  {
   "cell_type": "code",
   "execution_count": 51,
   "metadata": {},
   "outputs": [
    {
     "name": "stdout",
     "output_type": "stream",
     "text": [
      "28.44\n"
     ]
    }
   ],
   "source": [
    "def add_prices(basket):\n",
    "\t# Initialize the variable that will be used for the calculation\n",
    "    total = 0\n",
    "\t# Iterate through the dictionary items\n",
    "    for item, price in basket.items():\n",
    "\t\t# Add each price to the total calculation\n",
    "\t\t# Hint: how do you access the values of\n",
    "\t\t# dictionary items?\n",
    "        if item not in basket:\n",
    "            total = 0\n",
    "        total += price\n",
    "\t# Limit the return value to 2 decimal places\n",
    "    return round(total, 2)  \n",
    "\n",
    "groceries = {\"bananas\": 1.56, \"apples\": 2.50, \"oranges\": 0.99, \"bread\": 4.59, \n",
    "\t\"coffee\": 6.99, \"milk\": 3.39, \"eggs\": 2.98, \"cheese\": 5.44}\n",
    "\n",
    "print(add_prices(groceries)) # Should print 28.44\n"
   ]
  },
  {
   "cell_type": "code",
   "execution_count": null,
   "metadata": {},
   "outputs": [],
   "source": []
  }
 ],
 "metadata": {
  "kernelspec": {
   "display_name": "Python 3",
   "language": "python",
   "name": "python3"
  },
  "language_info": {
   "codemirror_mode": {
    "name": "ipython",
    "version": 3
   },
   "file_extension": ".py",
   "mimetype": "text/x-python",
   "name": "python",
   "nbconvert_exporter": "python",
   "pygments_lexer": "ipython3",
   "version": "3.8.4"
  }
 },
 "nbformat": 4,
 "nbformat_minor": 4
}
